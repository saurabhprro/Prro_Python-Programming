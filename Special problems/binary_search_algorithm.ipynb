{
 "cells": [
  {
   "cell_type": "code",
   "execution_count": 16,
   "metadata": {},
   "outputs": [],
   "source": [
    "def binary_search(list, item):\n",
    "   low = 0\n",
    "   high = len(list) - 1#because indexing start from 0.\n",
    "\n",
    "   while low <= high:\n",
    "       mid = (low + high) // 2#for middle digit\n",
    "       guess = list[mid]\n",
    "       if guess == item:#if we foun the middle number is target number\n",
    "           return mid\n",
    "       if guess > item:#if the  target digit is left side of sorted list\n",
    "           high = mid - 1\n",
    "       else:\n",
    "           low = mid + 1#if the  target dight is right of then middle of the digit\n",
    "   return None"
   ]
  },
  {
   "cell_type": "code",
   "execution_count": 17,
   "metadata": {},
   "outputs": [
    {
     "data": {
      "text/plain": [
       "5"
      ]
     },
     "execution_count": 17,
     "metadata": {},
     "output_type": "execute_result"
    }
   ],
   "source": [
    "list=[1,2,3,4,5,6,7]\n",
    "item=6\n",
    "binary_search(list,item)"
   ]
  }
 ],
 "metadata": {
  "kernelspec": {
   "display_name": "Python 3",
   "language": "python",
   "name": "python3"
  },
  "language_info": {
   "codemirror_mode": {
    "name": "ipython",
    "version": 3
   },
   "file_extension": ".py",
   "mimetype": "text/x-python",
   "name": "python",
   "nbconvert_exporter": "python",
   "pygments_lexer": "ipython3",
   "version": "3.11.6"
  }
 },
 "nbformat": 4,
 "nbformat_minor": 2
}
