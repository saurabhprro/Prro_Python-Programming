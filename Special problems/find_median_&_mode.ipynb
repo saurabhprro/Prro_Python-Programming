{
 "cells": [
  {
   "cell_type": "code",
   "execution_count": 1,
   "metadata": {},
   "outputs": [],
   "source": [
    "def find_median(lst1):\n",
    "    l=len(lst1)\n",
    "    \n",
    "    for i in range(len(lst1)):\n",
    "        for j in range(len(lst1)-1):\n",
    "           if lst1[j]>lst1[j+1]:\n",
    "              lst1[j],lst1[j+1]=lst1[j+1],lst1[j]\n",
    "    print(lst1)\n",
    "\n",
    "    if l%2==0: # If the length of given list is even , we have to take avgerage of two  middle numbers for median. \n",
    "        median1=(lst1[int(l/2)]+ lst1[(int(l/2))+1])/2\n",
    "    else:\n",
    "        median1=lst1[(int(l/2)+1)]\n",
    "    dict2={}\n",
    "    for i in lst1: \n",
    "        if i  in dict2:# Those numbers which are allready present in dict2 it just added the present of that number again by adding occurence of number\n",
    "            dict2[i]+=1\n",
    "        else:\n",
    "            dict2[i]=1\n",
    "    print(dict2)               \n",
    "    max_num=dict2[lst1[0]] # here we are assumising that the max ooccurence is of first key ,it is just for initialisation of value  \n",
    "    mode=lst1[0]\n",
    "    for key, value in dict2.items():\n",
    "        if max_num<value:\n",
    "            max_num= value\n",
    "            mode=key\n",
    "    return {\"mode\":mode,\"median1\":median1}\n",
    "  \n",
    "\n",
    "\n",
    "\n",
    "    \n",
    "            \n",
    "\n",
    "\n"
   ]
  },
  {
   "cell_type": "code",
   "execution_count": 52,
   "metadata": {},
   "outputs": [
    {
     "name": "stdout",
     "output_type": "stream",
     "text": [
      "[2, 2, 3, 4, 34, 90]\n",
      "{2: 2, 3: 1, 4: 1, 34: 1, 90: 1}\n"
     ]
    },
    {
     "data": {
      "text/plain": [
       "{'mode': 2, 'median1': 19.0}"
      ]
     },
     "execution_count": 52,
     "metadata": {},
     "output_type": "execute_result"
    }
   ],
   "source": [
    "lst1=[2,34,2,3,4,90]\n",
    "find_median(lst1)"
   ]
  },
  {
   "cell_type": "code",
   "execution_count": null,
   "metadata": {},
   "outputs": [],
   "source": []
  }
 ],
 "metadata": {
  "kernelspec": {
   "display_name": "Python 3",
   "language": "python",
   "name": "python3"
  },
  "language_info": {
   "codemirror_mode": {
    "name": "ipython",
    "version": 3
   },
   "file_extension": ".py",
   "mimetype": "text/x-python",
   "name": "python",
   "nbconvert_exporter": "python",
   "pygments_lexer": "ipython3",
   "version": "3.11.6"
  }
 },
 "nbformat": 4,
 "nbformat_minor": 2
}
