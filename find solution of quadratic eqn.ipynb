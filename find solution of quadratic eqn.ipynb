{
 "cells": [
  {
   "cell_type": "markdown",
   "metadata": {},
   "source": [
    "Given a quadratic equation with coefficients a, b and c, find the two solutions (may be real or complex). You should not take the square root of a negative number in your code.\n"
   ]
  },
  {
   "cell_type": "code",
   "execution_count": 10,
   "metadata": {},
   "outputs": [
    {
     "name": "stdout",
     "output_type": "stream",
     "text": [
      "the equation is 10.0 x**2+ 10.0 x+ 1.0\n",
      "solutions are -11.27016653792583 and\n"
     ]
    }
   ],
   "source": [
    "a=float(input(\"enter the first number\"))\n",
    "b=float(input(\"enter the second number\"))\n",
    "c=float(input(\"enter the third number\"))\n",
    "\n",
    "print(\"the equation is\",a,\"x**2+\",b,\"x+\",c)\n",
    "#firsty ind D\n",
    "D=b**2-4*a*c\n",
    "#if Dis negative\n",
    "\n",
    "if D<0:\n",
    "    print(\"solution can not find\")\n",
    "else:\n",
    "    #we will get 2 solution in a quadratic equation.\n",
    "    x1=(-b+D**0.5)/2*a\n",
    "    x2=(-b-D**0.5)/2*a\n",
    "    print(\"solutions are\",x1,\"and\",x2)\n"
   ]
  },
  {
   "cell_type": "code",
   "execution_count": null,
   "metadata": {},
   "outputs": [],
   "source": []
  },
  {
   "cell_type": "code",
   "execution_count": null,
   "metadata": {},
   "outputs": [],
   "source": []
  }
 ],
 "metadata": {
  "kernelspec": {
   "display_name": "Python 3",
   "language": "python",
   "name": "python3"
  },
  "language_info": {
   "codemirror_mode": {
    "name": "ipython",
    "version": 3
   },
   "file_extension": ".py",
   "mimetype": "text/x-python",
   "name": "python",
   "nbconvert_exporter": "python",
   "pygments_lexer": "ipython3",
   "version": "3.11.6"
  }
 },
 "nbformat": 4,
 "nbformat_minor": 2
}
