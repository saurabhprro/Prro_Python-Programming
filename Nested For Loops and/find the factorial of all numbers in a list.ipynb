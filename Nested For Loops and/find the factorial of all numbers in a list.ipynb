{
 "cells": [
  {
   "cell_type": "markdown",
   "metadata": {},
   "source": [
    "Given a list of numbers, find all the odd numbers in it."
   ]
  },
  {
   "cell_type": "code",
   "execution_count": 5,
   "metadata": {},
   "outputs": [
    {
     "name": "stdout",
     "output_type": "stream",
     "text": [
      "[3, 5, 89, 67, 9, 33, 45, 55, 443, 99]\n"
     ]
    }
   ],
   "source": [
    "a=[2,3,4,5,89,67,8,9,6,14,33,45,55,443,99]\n",
    "odd_list=[]\n",
    "\n",
    "for i in a:\n",
    "    if i%2!=0:\n",
    "        odd_list.append(i)\n",
    "       \n",
    "        \n",
    "print(odd_list)"
   ]
  },
  {
   "cell_type": "code",
   "execution_count": null,
   "metadata": {},
   "outputs": [],
   "source": []
  }
 ],
 "metadata": {
  "kernelspec": {
   "display_name": "Python 3",
   "language": "python",
   "name": "python3"
  },
  "language_info": {
   "codemirror_mode": {
    "name": "ipython",
    "version": 3
   },
   "file_extension": ".py",
   "mimetype": "text/x-python",
   "name": "python",
   "nbconvert_exporter": "python",
   "pygments_lexer": "ipython3",
   "version": "3.11.6"
  }
 },
 "nbformat": 4,
 "nbformat_minor": 2
}
