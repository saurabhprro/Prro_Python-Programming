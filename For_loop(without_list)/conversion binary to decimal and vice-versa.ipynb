{
 "cells": [
  {
   "cell_type": "markdown",
   "metadata": {},
   "source": [
    "Given a positive integer, convert it into binary, and vice-versa."
   ]
  },
  {
   "cell_type": "code",
   "execution_count": 8,
   "metadata": {},
   "outputs": [
    {
     "name": "stdout",
     "output_type": "stream",
     "text": [
      "[1, 1, 1, 1, 0, 1, 1]\n",
      "123\n"
     ]
    }
   ],
   "source": [
    "n=123\n",
    "a=[]\n",
    "\n",
    "while n>0:\n",
    "    dig=n%2#for getting remainder\n",
    "    a.append(dig)\n",
    "    n=n//2\n",
    "\n",
    "binary=a[::-1]#reverse the digits\n",
    "print(binary)\n",
    "#convert binary to decimal\n",
    "dec,k=0,0\n",
    "for r in a:\n",
    "    p=r*(2**k)\n",
    "    dec=dec+p\n",
    "    k+=1\n",
    "print(dec)"
   ]
  },
  {
   "cell_type": "code",
   "execution_count": null,
   "metadata": {},
   "outputs": [],
   "source": []
  }
 ],
 "metadata": {
  "kernelspec": {
   "display_name": "Python 3",
   "language": "python",
   "name": "python3"
  },
  "language_info": {
   "codemirror_mode": {
    "name": "ipython",
    "version": 3
   },
   "file_extension": ".py",
   "mimetype": "text/x-python",
   "name": "python",
   "nbconvert_exporter": "python",
   "pygments_lexer": "ipython3",
   "version": "3.11.6"
  }
 },
 "nbformat": 4,
 "nbformat_minor": 2
}
