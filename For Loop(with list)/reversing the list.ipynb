{
 "cells": [
  {
   "cell_type": "markdown",
   "metadata": {},
   "source": [
    "Given a list of numbers, create another list in reverse order."
   ]
  },
  {
   "cell_type": "code",
   "execution_count": 27,
   "metadata": {},
   "outputs": [
    {
     "name": "stdout",
     "output_type": "stream",
     "text": [
      "[23, 23, 24, 54, 98, 11, 32, 23, 12]\n"
     ]
    }
   ],
   "source": [
    "a=[12,23,32,11,98,54,24,23,23]\n",
    "new_list=[]\n",
    "for i in range(len(a)):\n",
    "    p=a[(len(a)-1)-i]\n",
    "    new_list.append(p)\n",
    "print(new_list)"
   ]
  },
  {
   "cell_type": "code",
   "execution_count": 18,
   "metadata": {},
   "outputs": [
    {
     "name": "stdout",
     "output_type": "stream",
     "text": [
      "[23, 23, 24, 54, 98, 11, 32, 23, 12]\n"
     ]
    }
   ],
   "source": [
    "a=[12,23,32,11,98,54,24,23,23]\n",
    "newlist=[]\n",
    "q=0\n",
    "for i in a:\n",
    "    newlist.insert(-q,i)\n",
    "    q+=1\n",
    "print(newlist)"
   ]
  },
  {
   "cell_type": "code",
   "execution_count": null,
   "metadata": {},
   "outputs": [],
   "source": []
  }
 ],
 "metadata": {
  "kernelspec": {
   "display_name": "Python 3",
   "language": "python",
   "name": "python3"
  },
  "language_info": {
   "codemirror_mode": {
    "name": "ipython",
    "version": 3
   },
   "file_extension": ".py",
   "mimetype": "text/x-python",
   "name": "python",
   "nbconvert_exporter": "python",
   "pygments_lexer": "ipython3",
   "version": "3.11.6"
  }
 },
 "nbformat": 4,
 "nbformat_minor": 2
}
