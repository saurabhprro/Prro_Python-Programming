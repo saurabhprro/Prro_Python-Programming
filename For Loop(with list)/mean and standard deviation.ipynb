{
 "cells": [
  {
   "cell_type": "markdown",
   "metadata": {},
   "source": [
    "Given a list of numbers, find out the mean and standard deviation."
   ]
  },
  {
   "cell_type": "code",
   "execution_count": 1,
   "metadata": {},
   "outputs": [
    {
     "name": "stdout",
     "output_type": "stream",
     "text": [
      "mean is  21.625\n",
      "standard deviation is 24.773662930620493\n"
     ]
    }
   ],
   "source": [
    "b=[2,31,4,6,9,5,78,38]\n",
    "a=0\n",
    "for i in b:\n",
    "    a=a+i\n",
    "mean=a/len(b)\n",
    "\n",
    "\n",
    "s=0\n",
    "for j in range(len(b)):\n",
    "    s=(b[j]-mean)**2+s\n",
    "print(\"mean is \",mean)\n",
    "print(\"standard deviation is\",(s/len(b))**0.5)\n"
   ]
  },
  {
   "cell_type": "code",
   "execution_count": null,
   "metadata": {},
   "outputs": [],
   "source": []
  },
  {
   "cell_type": "code",
   "execution_count": null,
   "metadata": {},
   "outputs": [],
   "source": []
  }
 ],
 "metadata": {
  "kernelspec": {
   "display_name": "Python 3",
   "language": "python",
   "name": "python3"
  },
  "language_info": {
   "codemirror_mode": {
    "name": "ipython",
    "version": 3
   },
   "file_extension": ".py",
   "mimetype": "text/x-python",
   "name": "python",
   "nbconvert_exporter": "python",
   "pygments_lexer": "ipython3",
   "version": "3.11.6"
  }
 },
 "nbformat": 4,
 "nbformat_minor": 2
}
