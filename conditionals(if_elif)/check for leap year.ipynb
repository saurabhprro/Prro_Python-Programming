{
 "cells": [
  {
   "cell_type": "markdown",
   "metadata": {},
   "source": [
    " Given a year, check if it is a  leap year or not. A leap year is divisible by 4, except for years that are divisible by 100. However, years that area divisible by 400 are also leap years."
   ]
  },
  {
   "cell_type": "code",
   "execution_count": 3,
   "metadata": {},
   "outputs": [
    {
     "name": "stdout",
     "output_type": "stream",
     "text": [
      "it is not a leap year\n"
     ]
    }
   ],
   "source": [
    "n=int(input(\"enter the number\"))\n",
    "if n<400:#check for is it under 400 or not\n",
    "    if n%100==0:#year which divided by 100 and less than 400 is not leap year\n",
    "        print(\"it is not a leap year\")\n",
    "    elif n%4==0:#if it will devide by 4 it will leap year\n",
    "        print(\"it is a leap year\")\n",
    "elif n%400==0:#this is for the year which more than 400\n",
    "    print(\"it is a leap year\")\n",
    "\n"
   ]
  },
  {
   "cell_type": "code",
   "execution_count": null,
   "metadata": {},
   "outputs": [],
   "source": []
  }
 ],
 "metadata": {
  "kernelspec": {
   "display_name": "Python 3",
   "language": "python",
   "name": "python3"
  },
  "language_info": {
   "codemirror_mode": {
    "name": "ipython",
    "version": 3
   },
   "file_extension": ".py",
   "mimetype": "text/x-python",
   "name": "python",
   "nbconvert_exporter": "python",
   "pygments_lexer": "ipython3",
   "version": "3.11.6"
  }
 },
 "nbformat": 4,
 "nbformat_minor": 2
}
