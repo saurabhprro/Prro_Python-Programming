{
 "cells": [
  {
   "cell_type": "markdown",
   "metadata": {},
   "source": [
    "Take  two numbers a and b from the user and find out a/b ( b could be zero. )"
   ]
  },
  {
   "cell_type": "code",
   "execution_count": 1,
   "metadata": {},
   "outputs": [
    {
     "name": "stdout",
     "output_type": "stream",
     "text": [
      "be is zero so ratio is not defined\n"
     ]
    }
   ],
   "source": [
    "a=int(input(\"enter the  first number\"))\n",
    "b=int(input(\"enter the  second number\"))\n",
    "if b!=0:#check for b is negative or not\n",
    "    d=a/b\n",
    "    print(\"a by b is\",d)\n",
    "else:#if b is zero mean not defined\n",
    "    print(\"be is zero so ratio is not defined\")\n",
    "\n"
   ]
  },
  {
   "cell_type": "code",
   "execution_count": null,
   "metadata": {},
   "outputs": [],
   "source": []
  }
 ],
 "metadata": {
  "kernelspec": {
   "display_name": "Python 3",
   "language": "python",
   "name": "python3"
  },
  "language_info": {
   "codemirror_mode": {
    "name": "ipython",
    "version": 3
   },
   "file_extension": ".py",
   "mimetype": "text/x-python",
   "name": "python",
   "nbconvert_exporter": "python",
   "pygments_lexer": "ipython3",
   "version": "3.11.6"
  }
 },
 "nbformat": 4,
 "nbformat_minor": 2
}
