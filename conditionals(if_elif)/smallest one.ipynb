{
 "cells": [
  {
   "cell_type": "markdown",
   "metadata": {},
   "source": [
    "Given three integers, find the smallest one."
   ]
  },
  {
   "cell_type": "code",
   "execution_count": null,
   "metadata": {},
   "outputs": [],
   "source": [
    "x=18\n",
    "y=14\n",
    "z=78\n",
    "if x<=y and x<=z:\n",
    "    print(x,\" is smallest\")\n",
    "elif y<=x and y<=z:\n",
    "    print(y,\" is smallest\")\n",
    "else:\n",
    "    print(z,\" is smallest\")\n"
   ]
  }
 ],
 "metadata": {
  "language_info": {
   "name": "python"
  }
 },
 "nbformat": 4,
 "nbformat_minor": 2
}
