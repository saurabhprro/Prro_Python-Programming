{
 "cells": [
  {
   "cell_type": "markdown",
   "metadata": {},
   "source": [
    "Given three points, find out whether they lie on the same straight line or not.\n"
   ]
  },
  {
   "cell_type": "code",
   "execution_count": null,
   "metadata": {},
   "outputs": [],
   "source": [
    "x1=float(input(\"enter the x-quadrant of first point\"))\n",
    "y1=float(input(\"enter the y-quadrant of first point\"))\n",
    "x2=float(input(\"enter the x-quadrant of second point\"))\n",
    "y2=float(input(\"enter the x-quadrant ofsecond point\"))\n",
    "x3=float(input(\"enter the x-quadrant of third point\"))\n",
    "y3=float(input(\"enter the y-quadrant of third point\"))\n",
    "if x1!=x2 and x2!=x3: #check for infinite slope\n",
    "    slope1=(y2-y1)/(x2-x1)\n",
    "    slope2=(y3-y1)/(x3-x1)\n",
    "    if slope1==slope2:\n",
    "        print(\"all three points are lies on a straight line\")\n",
    "\n"
   ]
  }
 ],
 "metadata": {
  "language_info": {
   "name": "python"
  }
 },
 "nbformat": 4,
 "nbformat_minor": 2
}
