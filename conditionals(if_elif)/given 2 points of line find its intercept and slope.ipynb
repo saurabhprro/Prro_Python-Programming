{
 "cells": [
  {
   "cell_type": "code",
   "execution_count": 2,
   "metadata": {},
   "outputs": [
    {
     "name": "stdout",
     "output_type": "stream",
     "text": [
      "slope is 5.0 intercepts is -66.0\n"
     ]
    }
   ],
   "source": [
    "x1=float(input(\"enter the  x coordinate of first point \"))\n",
    "y1=float(input(\"enter the y coordinate of first point\"))\n",
    "x2=float(input(\"enter the x coordinate of second point\"))\n",
    "y2=float(input(\"enter the y coordinate of second point\"))\n",
    "a=x2-x1\n",
    "b=y2-y1\n",
    "slope=b/a# this is the formula of slope\n",
    "intercept=(y2-slope)*x2 #formula for geting intercept.\n",
    "if b==0: #slope will zero\n",
    "    print(\"slope is zero,line will parallel to x-axis and intercept will\")\n",
    "elif a==0: #slope will infinite\n",
    "    print(\"slope is note defien , line is parallel to y-axis and intercept will\")\n",
    "else:\n",
    "    print(\"slope is\",slope,\"intercepts is\",intercept)\n"
   ]
  },
  {
   "cell_type": "code",
   "execution_count": null,
   "metadata": {},
   "outputs": [],
   "source": []
  }
 ],
 "metadata": {
  "kernelspec": {
   "display_name": "Python 3",
   "language": "python",
   "name": "python3"
  },
  "language_info": {
   "codemirror_mode": {
    "name": "ipython",
    "version": 3
   },
   "file_extension": ".py",
   "mimetype": "text/x-python",
   "name": "python",
   "nbconvert_exporter": "python",
   "pygments_lexer": "ipython3",
   "version": "3.11.6"
  }
 },
 "nbformat": 4,
 "nbformat_minor": 2
}
