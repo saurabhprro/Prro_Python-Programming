{
 "cells": [
  {
   "cell_type": "markdown",
   "metadata": {},
   "source": [
    "Remove a key from a dictionary:\n",
    "dict_name.pop(key_name)"
   ]
  },
  {
   "cell_type": "code",
   "execution_count": 1,
   "metadata": {},
   "outputs": [
    {
     "name": "stdout",
     "output_type": "stream",
     "text": [
      "{'b': 45, 'c': 67}\n"
     ]
    }
   ],
   "source": [
    "dict_sample={\"a\":23,'b':45,'c':67}\n",
    "dict_sample.pop(\"a\")\n",
    "print(dict_sample)"
   ]
  },
  {
   "cell_type": "code",
   "execution_count": 2,
   "metadata": {},
   "outputs": [
    {
     "name": "stdout",
     "output_type": "stream",
     "text": [
      "{'b': 45, 'c': 67, 'a': 55}\n"
     ]
    }
   ],
   "source": [
    "#replacing value\n",
    "dict_sample={\"a\":23,'b':45,'c':67}\n",
    "dict_sample.pop(\"a\")\n",
    "dict_sample[\"a\"]=55\n",
    "print(dict_sample)"
   ]
  },
  {
   "cell_type": "code",
   "execution_count": null,
   "metadata": {},
   "outputs": [],
   "source": []
  }
 ],
 "metadata": {
  "kernelspec": {
   "display_name": "Python 3",
   "language": "python",
   "name": "python3"
  },
  "language_info": {
   "codemirror_mode": {
    "name": "ipython",
    "version": 3
   },
   "file_extension": ".py",
   "mimetype": "text/x-python",
   "name": "python",
   "nbconvert_exporter": "python",
   "pygments_lexer": "ipython3",
   "version": "3.11.6"
  }
 },
 "nbformat": 4,
 "nbformat_minor": 2
}
