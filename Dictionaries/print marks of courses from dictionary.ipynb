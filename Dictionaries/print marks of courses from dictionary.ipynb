{
 "cells": [
  {
   "cell_type": "markdown",
   "metadata": {},
   "source": [
    "Create a dictionary to store the total marks of 5 students in the class in 3 subjects (Course1, Course2, Course3). The keys must be the student names, and the values must be the list of marks. Create another list which has the course names in the same order as the marks are stored in the dictionary values. Now write a nested for loop to print the marks for each student exam wise."
   ]
  },
  {
   "cell_type": "code",
   "execution_count": 20,
   "metadata": {},
   "outputs": [
    {
     "name": "stdout",
     "output_type": "stream",
     "text": [
      "Ram\n",
      "Computer Science : 89\n",
      "English : 62\n",
      "Sanskrit : 78\n",
      "\n",
      "\n",
      "Pradeep\n",
      "Computer Science : 90\n",
      "English : 56\n",
      "Sanskrit : 23\n",
      "\n",
      "\n",
      "Nikhil\n",
      "Computer Science : 46\n",
      "English : 60\n",
      "Sanskrit : 99\n",
      "\n",
      "\n",
      "Saurabh\n",
      "Computer Science : 99\n",
      "English : 99\n",
      "Sanskrit : 98\n",
      "\n",
      "\n",
      "Anuj\n",
      "Computer Science : 81\n",
      "English : 92\n",
      "Sanskrit : 48\n",
      "\n",
      "\n"
     ]
    }
   ],
   "source": [
    "dict_marks={}\n",
    "dict_marks[\"Ram\"]=[89,62,78]\n",
    "dict_marks[\"Pradeep\"]=[90,56,23]\n",
    "dict_marks[\"Nikhil\"]=[46,60,99]\n",
    "dict_marks[\"Saurabh\"]=[99,99,98]\n",
    "dict_marks[\"Anuj\"]=[81,92,48]\n",
    "course_name=[\"Computer Science\",\"English\",\"Sanskrit\"]\n",
    "for i,j in dict_marks.items():\n",
    "    a=0\n",
    "    print(i)\n",
    "    for k in j:\n",
    "        print(course_name[a],\":\",k)\n",
    "        a+=1\n",
    "    print(\"\\n\")\n",
    "        \n",
    "        \n",
    "        \n"
   ]
  },
  {
   "cell_type": "code",
   "execution_count": null,
   "metadata": {},
   "outputs": [],
   "source": []
  }
 ],
 "metadata": {
  "kernelspec": {
   "display_name": "Python 3",
   "language": "python",
   "name": "python3"
  },
  "language_info": {
   "codemirror_mode": {
    "name": "ipython",
    "version": 3
   },
   "file_extension": ".py",
   "mimetype": "text/x-python",
   "name": "python",
   "nbconvert_exporter": "python",
   "pygments_lexer": "ipython3",
   "version": "3.11.6"
  }
 },
 "nbformat": 4,
 "nbformat_minor": 2
}
