{
 "cells": [
  {
   "cell_type": "markdown",
   "metadata": {},
   "source": [
    "Create a dictionary of your marks in various subjects and then sort it by its values first in descending order, and then in or ascending order. Do not use any inbuilt sorting functions."
   ]
  },
  {
   "cell_type": "code",
   "execution_count": 33,
   "metadata": {},
   "outputs": [
    {
     "name": "stdout",
     "output_type": "stream",
     "text": [
      "values in ssending order [67, 78, 89, 99, 99]\n"
     ]
    }
   ],
   "source": [
    "dict_marks={\"Physics\":89,\"maths\":99,\"Chemistry\":67,\"Computern Science\":78,\"Sanskrit\":99}\n",
    "dict_mark1={}\n",
    "lst=[]\n",
    "\n",
    "for k,i in dict_marks.items():\n",
    "    lst.append(i)\n",
    "for i in range(len(lst)):\n",
    "   for j in range(len(lst) - 1):\n",
    "       if lst[j]>lst[j + 1]:\n",
    "           lst[j],lst[j + 1]=lst[j + 1],lst[j]\n",
    "print(\"values in ssending order\",lst)\n",
    "\n",
    "\n",
    "        \n",
    "\n",
    "\n",
    "\n",
    "        \n",
    "\n",
    "\n",
    "    \n",
    "\n",
    "\n"
   ]
  },
  {
   "cell_type": "code",
   "execution_count": null,
   "metadata": {},
   "outputs": [],
   "source": []
  },
  {
   "cell_type": "code",
   "execution_count": null,
   "metadata": {},
   "outputs": [],
   "source": []
  }
 ],
 "metadata": {
  "kernelspec": {
   "display_name": "Python 3",
   "language": "python",
   "name": "python3"
  },
  "language_info": {
   "codemirror_mode": {
    "name": "ipython",
    "version": 3
   },
   "file_extension": ".py",
   "mimetype": "text/x-python",
   "name": "python",
   "nbconvert_exporter": "python",
   "pygments_lexer": "ipython3",
   "version": "3.11.6"
  }
 },
 "nbformat": 4,
 "nbformat_minor": 2
}
