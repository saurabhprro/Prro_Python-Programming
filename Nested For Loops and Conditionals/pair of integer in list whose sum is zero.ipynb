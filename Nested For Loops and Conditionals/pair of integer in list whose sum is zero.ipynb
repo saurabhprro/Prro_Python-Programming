{
 "cells": [
  {
   "cell_type": "markdown",
   "metadata": {},
   "source": [
    "Given a list of integers, find all pairs of integers in the list whose sum is zero"
   ]
  },
  {
   "cell_type": "code",
   "execution_count": 9,
   "metadata": {},
   "outputs": [
    {
     "name": "stdout",
     "output_type": "stream",
     "text": [
      "[2, -2, 4, -4, 6, -6, 61, -61]\n"
     ]
    }
   ],
   "source": [
    "a=[2,-2,4,6,87,-6,87,3,2,1,-4,61,8,5,4,32,12,2,45,2,32,2,-61]\n",
    "pairs=[]\n",
    "for i in range(len(a)):\n",
    "    b=a[i]\n",
    "    if b not in pairs:\n",
    "        for j in range(len(a)):\n",
    "            c=a[j]\n",
    "            if b+c==0:\n",
    "                pairs.append(b)\n",
    "                pairs.append(c)\n",
    "print(pairs)\n",
    "\n",
    "\n"
   ]
  },
  {
   "cell_type": "code",
   "execution_count": null,
   "metadata": {},
   "outputs": [],
   "source": []
  }
 ],
 "metadata": {
  "kernelspec": {
   "display_name": "Python 3",
   "language": "python",
   "name": "python3"
  },
  "language_info": {
   "codemirror_mode": {
    "name": "ipython",
    "version": 3
   },
   "file_extension": ".py",
   "mimetype": "text/x-python",
   "name": "python",
   "nbconvert_exporter": "python",
   "pygments_lexer": "ipython3",
   "version": "3.11.6"
  }
 },
 "nbformat": 4,
 "nbformat_minor": 2
}
