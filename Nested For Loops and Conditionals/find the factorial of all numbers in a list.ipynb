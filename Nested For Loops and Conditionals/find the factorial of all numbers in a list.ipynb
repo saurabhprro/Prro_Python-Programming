{
 "cells": [
  {
   "cell_type": "markdown",
   "metadata": {},
   "source": [
    "Given a list of positive integers, find the factorial of all the numbers."
   ]
  },
  {
   "cell_type": "code",
   "execution_count": 6,
   "metadata": {},
   "outputs": [
    {
     "name": "stdout",
     "output_type": "stream",
     "text": [
      "[1, 2, 6, 720, 24, 720, 5040]\n"
     ]
    }
   ],
   "source": [
    "a=[1,2,3,6,4,6,7]\n",
    "fact_list=[]\n",
    "p=1\n",
    "for i in a:\n",
    "    p=1\n",
    "    for j in range(2,i+1):\n",
    "        p=j*p\n",
    "    fact_list.append(p)\n",
    "\n",
    "\n",
    "       \n",
    "        \n",
    "print(fact_list)"
   ]
  },
  {
   "cell_type": "code",
   "execution_count": null,
   "metadata": {},
   "outputs": [],
   "source": []
  }
 ],
 "metadata": {
  "kernelspec": {
   "display_name": "Python 3",
   "language": "python",
   "name": "python3"
  },
  "language_info": {
   "codemirror_mode": {
    "name": "ipython",
    "version": 3
   },
   "file_extension": ".py",
   "mimetype": "text/x-python",
   "name": "python",
   "nbconvert_exporter": "python",
   "pygments_lexer": "ipython3",
   "version": "3.11.6"
  }
 },
 "nbformat": 4,
 "nbformat_minor": 2
}
