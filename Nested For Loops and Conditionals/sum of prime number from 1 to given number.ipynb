{
 "cells": [
  {
   "cell_type": "markdown",
   "metadata": {},
   "source": [
    "Given a positive integers, find out the sum of all prime numbers from 1 up to this number."
   ]
  },
  {
   "cell_type": "code",
   "execution_count": 4,
   "metadata": {},
   "outputs": [
    {
     "name": "stdout",
     "output_type": "stream",
     "text": [
      "sum of all prime number is 18\n"
     ]
    }
   ],
   "source": [
    "n=10\n",
    "sum=0\n",
    "list_prime=[]\n",
    "for i in range(1,n+1):\n",
    "    a=0\n",
    "    \n",
    "    for j in range(1,i+1):\n",
    "        if i%j==0:\n",
    "            a+=1\n",
    "    \n",
    "    if a<3:\n",
    "        sum=sum+i\n",
    "            \n",
    "print(\"sum of all prime number is\",sum)"
   ]
  },
  {
   "cell_type": "code",
   "execution_count": null,
   "metadata": {},
   "outputs": [],
   "source": []
  }
 ],
 "metadata": {
  "kernelspec": {
   "display_name": "Python 3",
   "language": "python",
   "name": "python3"
  },
  "language_info": {
   "codemirror_mode": {
    "name": "ipython",
    "version": 3
   },
   "file_extension": ".py",
   "mimetype": "text/x-python",
   "name": "python",
   "nbconvert_exporter": "python",
   "pygments_lexer": "ipython3",
   "version": "3.11.6"
  }
 },
 "nbformat": 4,
 "nbformat_minor": 2
}
