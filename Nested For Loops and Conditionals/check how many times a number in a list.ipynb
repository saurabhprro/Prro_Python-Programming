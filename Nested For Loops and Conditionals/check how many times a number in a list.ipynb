{
 "cells": [
  {
   "cell_type": "markdown",
   "metadata": {},
   "source": [
    "Given a list of numbers, find out how many times each number occurs in the list."
   ]
  },
  {
   "cell_type": "code",
   "execution_count": 38,
   "metadata": {},
   "outputs": [
    {
     "name": "stdout",
     "output_type": "stream",
     "text": [
      "2 came 5 times\n",
      "3 came 5 times\n",
      "4 came 4 times\n"
     ]
    }
   ],
   "source": [
    "a=[2,2,2,2,2,3,3,3,3,3,4,4,4,4,]\n",
    "checked=[]\n",
    "\n",
    "for i in range(len(a)):\n",
    "    b=a[i]\n",
    "    count=0\n",
    "    if b not in checked:\n",
    "        for j in range(0,len(a)):\n",
    "            if b==a[j]:\n",
    "                count+=1\n",
    "                checked.append(b)\n",
    "        print(b,\"came\",count ,\"times\")\n",
    "\n",
    "\n",
    "   "
   ]
  },
  {
   "cell_type": "code",
   "execution_count": null,
   "metadata": {},
   "outputs": [],
   "source": []
  }
 ],
 "metadata": {
  "kernelspec": {
   "display_name": "Python 3",
   "language": "python",
   "name": "python3"
  },
  "language_info": {
   "codemirror_mode": {
    "name": "ipython",
    "version": 3
   },
   "file_extension": ".py",
   "mimetype": "text/x-python",
   "name": "python",
   "nbconvert_exporter": "python",
   "pygments_lexer": "ipython3",
   "version": "3.11.6"
  }
 },
 "nbformat": 4,
 "nbformat_minor": 2
}
