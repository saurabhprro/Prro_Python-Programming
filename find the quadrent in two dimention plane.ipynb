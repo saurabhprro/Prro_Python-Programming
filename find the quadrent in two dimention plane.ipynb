{
 "cells": [
  {
   "cell_type": "markdown",
   "metadata": {},
   "source": [
    " Take a point in 2D space from the user and  find out the quardrant in which it lies."
   ]
  },
  {
   "cell_type": "code",
   "execution_count": null,
   "metadata": {},
   "outputs": [],
   "source": [
    "a=float(input(\"enter the first point\"))\n",
    "b=float(input(\"enter the second point\"))\n",
    "if a==0 and b==0:\n",
    "    print(\"points lies at origin\")\n",
    "elif a==0 and b!=0:\n",
    "    print(\"points lies at y-axis\")\n",
    "elif a!=0 and b==0:\n",
    "    print(\"points lies at x-axis\")\n",
    "elif a>0 and b>0:\n",
    "    print(\"points lies in first quadreant\")\n",
    "elif a>0 and b<0:\n",
    "    print(\"points lies in forth quadreant\")\n",
    "elif a<0 and b>0:\n",
    "    print(\"points lies in second quadreant\")\n",
    "else:\n",
    "    print(\"points lies in third quadreant\")"
   ]
  }
 ],
 "metadata": {
  "language_info": {
   "name": "python"
  }
 },
 "nbformat": 4,
 "nbformat_minor": 2
}
